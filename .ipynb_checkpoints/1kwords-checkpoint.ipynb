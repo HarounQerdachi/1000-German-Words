{
 "cells": [
  {
   "cell_type": "markdown",
   "id": "1d6eac82-61a4-4d20-a333-3c03a0801272",
   "metadata": {},
   "source": [
    "# 1000 Words in German Language!!"
   ]
  },
  {
   "cell_type": "code",
   "execution_count": 1,
   "id": "7a9a9169-1eb9-4acd-9071-2a3afcbe1dff",
   "metadata": {},
   "outputs": [],
   "source": [
    "import requests\n",
    "from bs4 import BeautifulSoup\n",
    "import pandas as pd"
   ]
  },
  {
   "cell_type": "code",
   "execution_count": 2,
   "id": "fe0f2fee-fac5-4e13-a104-0e3b29b8bdd0",
   "metadata": {},
   "outputs": [],
   "source": [
    "url = 'https://1000mostcommonwords.com/1000-most-common-german-words/'"
   ]
  },
  {
   "cell_type": "code",
   "execution_count": 3,
   "id": "03db33fa-4a80-440a-8fc8-a9f7f8f6c5df",
   "metadata": {},
   "outputs": [],
   "source": [
    "response = requests.get(url)"
   ]
  },
  {
   "cell_type": "code",
   "execution_count": 4,
   "id": "82551287-6255-43e3-a53c-408cbdc4cbd7",
   "metadata": {},
   "outputs": [],
   "source": [
    "#response => 200 OK\n",
    "#type(response.text) => str\n",
    "html = response.text"
   ]
  },
  {
   "cell_type": "code",
   "execution_count": 5,
   "id": "4c2a5415-827e-425f-9ed9-ce1c97f7d6a4",
   "metadata": {},
   "outputs": [],
   "source": [
    "# Parse the HTML with BeautifulSoup\n",
    "soup = BeautifulSoup(html , 'html.parser')"
   ]
  },
  {
   "cell_type": "code",
   "execution_count": 6,
   "id": "99ccfb2f-8ad6-4060-9049-6e85856a4cf8",
   "metadata": {},
   "outputs": [],
   "source": [
    "# Initialize lists to store data\n",
    "ids = []\n",
    "german_words = []\n",
    "english_words = []"
   ]
  },
  {
   "cell_type": "code",
   "execution_count": 7,
   "id": "7864bff5-ba94-4b0f-b866-ad31c86261f7",
   "metadata": {},
   "outputs": [
    {
     "name": "stdout",
     "output_type": "stream",
     "text": [
      "[<tr>\n",
      "<td>1</td>\n",
      "<td>wie</td>\n",
      "<td>as</td>\n",
      "</tr>, <tr>\n",
      "<td>2</td>\n",
      "<td>ich</td>\n",
      "<td>I</td>\n",
      "</tr>, <tr>\n",
      "<td>3</td>\n",
      "<td>seine</td>\n",
      "<td>his</td>\n",
      "</tr>, <tr>\n",
      "<td>4</td>\n",
      "<td>dass</td>\n",
      "<td>that</td>\n",
      "</tr>, <tr>\n",
      "<td>5</td>\n",
      "<td>er</td>\n",
      "<td>he</td>\n",
      "</tr>]\n"
     ]
    }
   ],
   "source": [
    "#soup.title.text => '1000 Most Common German Words - 100% Best List of Words'\n",
    "#len(soup.find_all('tr')) => 1001\n",
    "# Find all <tr> elements except the first one (index 0)\n",
    "table_rows = soup.find_all('tr')[1:]  # Skip the first row\n",
    "print(table_rows[:5])"
   ]
  },
  {
   "cell_type": "code",
   "execution_count": 58,
   "id": "2a3ac255-1b55-4c96-a31b-043c3e4f8ce6",
   "metadata": {},
   "outputs": [],
   "source": [
    "# Loop through each <tr> element and extract data\n",
    "for row in table_rows:\n",
    "    # Find all <td> elements within the <tr> element\n",
    "    columns = row.find_all('td')\n",
    "    if len(columns) == 3:  # Ensure there are 3 columns in each row\n",
    "        id, german, english = [column.get_text(strip=True) for column in columns]\n",
    "        ids.append(id)\n",
    "        german_words.append(german)\n",
    "        english_words.append(english)\n"
   ]
  },
  {
   "cell_type": "code",
   "execution_count": 59,
   "id": "d8eee67b-1e46-4d73-bbfe-34f67bc91934",
   "metadata": {},
   "outputs": [],
   "source": [
    "# Create a DataFrame\n",
    "data = {\n",
    "    'id': ids,\n",
    "    'german': german_words,\n",
    "    'english': english_words\n",
    "}\n",
    "df = pd.DataFrame(data)"
   ]
  },
  {
   "cell_type": "code",
   "execution_count": 60,
   "id": "91bc7cce-8949-4612-b43d-0cb564105bd4",
   "metadata": {},
   "outputs": [],
   "source": [
    "# Save the DataFrame to an Excel file\n",
    "df.to_excel('output.xlsx', index=False)"
   ]
  },
  {
   "cell_type": "code",
   "execution_count": null,
   "id": "6eaaaeb9-3bf3-42a5-a60b-a2cf94fe5861",
   "metadata": {},
   "outputs": [],
   "source": []
  }
 ],
 "metadata": {
  "kernelspec": {
   "display_name": "Python 3 (ipykernel)",
   "language": "python",
   "name": "python3"
  },
  "language_info": {
   "codemirror_mode": {
    "name": "ipython",
    "version": 3
   },
   "file_extension": ".py",
   "mimetype": "text/x-python",
   "name": "python",
   "nbconvert_exporter": "python",
   "pygments_lexer": "ipython3",
   "version": "3.11.0"
  }
 },
 "nbformat": 4,
 "nbformat_minor": 5
}
